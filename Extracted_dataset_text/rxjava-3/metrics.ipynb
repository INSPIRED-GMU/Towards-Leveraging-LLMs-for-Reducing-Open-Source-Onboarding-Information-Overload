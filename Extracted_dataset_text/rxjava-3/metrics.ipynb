{
 "cells": [
  {
   "cell_type": "code",
   "execution_count": 1,
   "id": "70a87c59-499c-4967-8576-9d60662dbe9d",
   "metadata": {},
   "outputs": [],
   "source": [
    "from bert_score import score\n",
    "import matplotlib.pyplot as plt\n",
    "import textstat"
   ]
  },
  {
   "cell_type": "raw",
   "id": "043266d3-f6aa-4d35-a28d-2ee92c3f5e4a",
   "metadata": {},
   "source": [
    "Original vs ChatGPT BERTScore"
   ]
  },
  {
   "cell_type": "code",
   "execution_count": 2,
   "id": "b358183d-38b0-4934-90a5-16d8c05d679a",
   "metadata": {},
   "outputs": [
    {
     "name": "stderr",
     "output_type": "stream",
     "text": [
      "/Users/elijahadejumo/anaconda3/lib/python3.11/site-packages/transformers/utils/generic.py:260: UserWarning: torch.utils._pytree._register_pytree_node is deprecated. Please use torch.utils._pytree.register_pytree_node instead.\n",
      "  torch.utils._pytree._register_pytree_node(\n",
      "Some weights of RobertaModel were not initialized from the model checkpoint at roberta-large and are newly initialized: ['roberta.pooler.dense.bias', 'roberta.pooler.dense.weight']\n",
      "You should probably TRAIN this model on a down-stream task to be able to use it for predictions and inference.\n"
     ]
    },
    {
     "name": "stdout",
     "output_type": "stream",
     "text": [
      "P: 0.9013050198554993, Recall: 0.89891117811203, F1: 0.9001065492630005\n"
     ]
    }
   ],
   "source": [
    "def read_file_as_one_string(file_path):\n",
    "    with open(file_path, 'r', encoding='utf-8') as file:\n",
    "        content = file.read().strip()  # Read the entire file content and strip leading/trailing whitespace\n",
    "    return content\n",
    "\n",
    "# Replace 'path/to/your' with the actual paths to your files\n",
    "reference_text  = read_file_as_one_string('/Users/Document/CS701/experiment/Text/rxjava-3/rxjava-3_original.txt')\n",
    "candidate_text  = read_file_as_one_string('/Users/Document/CS701/experiment/Text/rxjava-3/rxjava-3_ChatGPT.txt')\n",
    "\n",
    "# Wrap texts in lists to form one-to-one pairs\n",
    "candidates = [candidate_text]\n",
    "references = [reference_text]\n",
    "\n",
    "# Compute BERTScore\n",
    "P, R, F1 = score(candidates, references, lang='en')\n",
    "print(f\"P: {P.mean()}, Recall: {R.mean()}, F1: {F1.mean()}\")"
   ]
  },
  {
   "cell_type": "code",
   "execution_count": 3,
   "id": "e40db14d-aa28-4131-b99d-82552e613e4c",
   "metadata": {},
   "outputs": [
    {
     "name": "stderr",
     "output_type": "stream",
     "text": [
      "Some weights of RobertaModel were not initialized from the model checkpoint at roberta-large and are newly initialized: ['roberta.pooler.dense.bias', 'roberta.pooler.dense.weight']\n",
      "You should probably TRAIN this model on a down-stream task to be able to use it for predictions and inference.\n"
     ]
    },
    {
     "name": "stdout",
     "output_type": "stream",
     "text": [
      "P: 0.9061224460601807, Recall: 0.8941459655761719, F1: 0.9000943899154663\n"
     ]
    }
   ],
   "source": [
    "def read_file_as_one_string(file_path):\n",
    "    with open(file_path, 'r', encoding='utf-8') as file:\n",
    "        content = file.read().strip()  # Read the entire file content and strip leading/trailing whitespace\n",
    "    return content\n",
    "\n",
    "# Replace 'path/to/your' with the actual paths to your files\n",
    "reference_text  = read_file_as_one_string('/Users/Document/CS701/experiment/Text/rxjava-3/rxjava-3_original.txt')\n",
    "candidate_text  = read_file_as_one_string('/Users/Document/CS701/experiment/Text/rxjava-3/rxjava-3_Gemini.txt')\n",
    "\n",
    "# Wrap texts in lists to form one-to-one pairs\n",
    "candidates = [candidate_text]\n",
    "references = [reference_text]\n",
    "\n",
    "# Compute BERTScore\n",
    "P, R, F1 = score(candidates, references, lang='en')\n",
    "print(f\"P: {P.mean()}, Recall: {R.mean()}, F1: {F1.mean()}\")"
   ]
  },
  {
   "cell_type": "code",
   "execution_count": 4,
   "id": "e80ff5b6-9f8f-42d3-9079-cbdb62acb0f9",
   "metadata": {},
   "outputs": [
    {
     "name": "stdout",
     "output_type": "stream",
     "text": [
      "Flesch Reading Ease: 53.61\n",
      "SMOG Index: 12.0\n",
      "Flesch-Kincaid Grade: 10.2\n",
      "Coleman-Liau Index: 11.6\n",
      "Automated Readability Index: 12.5\n",
      "Dale-Chall Readability Score: 9.53\n",
      "Difficult Words: 37\n",
      "Lexicon Count: 176\n",
      "Sentence Count: 10\n",
      "Reading Time (minutes): 13.79\n",
      "gunning_fog: 11.36\n",
      "linsear_write: 12.6\n"
     ]
    }
   ],
   "source": [
    "# Function to read text from a file\n",
    "def read_text_from_file(file_path):\n",
    "    with open(file_path, 'r', encoding='utf-8') as file:\n",
    "        text = file.read()\n",
    "    return text\n",
    "\n",
    "# Function to evaluate text using textstat\n",
    "def evaluate_text(text):\n",
    "    readability_scores = {\n",
    "        'Flesch Reading Ease': textstat.flesch_reading_ease(text),\n",
    "        'SMOG Index': textstat.smog_index(text),\n",
    "        'Flesch-Kincaid Grade': textstat.flesch_kincaid_grade(text),\n",
    "        'Coleman-Liau Index': textstat.coleman_liau_index(text),\n",
    "        'Automated Readability Index': textstat.automated_readability_index(text),\n",
    "        'Dale-Chall Readability Score': textstat.dale_chall_readability_score(text),\n",
    "        'Difficult Words': textstat.difficult_words(text),\n",
    "        'Lexicon Count': textstat.lexicon_count(text, removepunct=True),\n",
    "        'Sentence Count': textstat.sentence_count(text),\n",
    "        'Reading Time (minutes)': textstat.reading_time(text),\n",
    "         'gunning_fog' : textstat.gunning_fog(text),\n",
    "        'linsear_write' : textstat.linsear_write_formula(text)\n",
    "    }\n",
    "    return readability_scores\n",
    "\n",
    "# Example usage\n",
    "file_path = '/Users/Document/CS701/experiment/Text/rxjava-3/rxjava-3_original.txt'  # Replace 'your_file.txt' with the path to your text file\n",
    "text = read_text_from_file(file_path)\n",
    "readability_scores = evaluate_text(text)\n",
    "\n",
    "# Printing the results\n",
    "for key, value in readability_scores.items():\n",
    "    print(f\"{key}: {value}\")"
   ]
  },
  {
   "cell_type": "code",
   "execution_count": 5,
   "id": "3fdb961f-dcc6-49aa-8c28-288c111ad161",
   "metadata": {},
   "outputs": [
    {
     "name": "stdout",
     "output_type": "stream",
     "text": [
      "Flesch Reading Ease: 76.42\n",
      "SMOG Index: 9.6\n",
      "Flesch-Kincaid Grade: 5.5\n",
      "Coleman-Liau Index: 9.27\n",
      "Automated Readability Index: 7.9\n",
      "Dale-Chall Readability Score: 8.1\n",
      "Difficult Words: 35\n",
      "Lexicon Count: 236\n",
      "Sentence Count: 20\n",
      "Reading Time (minutes): 17.25\n",
      "gunning_fog: 7.43\n",
      "linsear_write: 4.0\n"
     ]
    }
   ],
   "source": [
    "# Function to read text from a file\n",
    "def read_text_from_file(file_path):\n",
    "    with open(file_path, 'r', encoding='utf-8') as file:\n",
    "        text = file.read()\n",
    "    return text\n",
    "\n",
    "# Function to evaluate text using textstat\n",
    "def evaluate_text(text):\n",
    "    readability_scores = {\n",
    "        'Flesch Reading Ease': textstat.flesch_reading_ease(text),\n",
    "        'SMOG Index': textstat.smog_index(text),\n",
    "        'Flesch-Kincaid Grade': textstat.flesch_kincaid_grade(text),\n",
    "        'Coleman-Liau Index': textstat.coleman_liau_index(text),\n",
    "        'Automated Readability Index': textstat.automated_readability_index(text),\n",
    "        'Dale-Chall Readability Score': textstat.dale_chall_readability_score(text),\n",
    "        'Difficult Words': textstat.difficult_words(text),\n",
    "        'Lexicon Count': textstat.lexicon_count(text, removepunct=True),\n",
    "        'Sentence Count': textstat.sentence_count(text),\n",
    "        'Reading Time (minutes)': textstat.reading_time(text),\n",
    "         'gunning_fog' : textstat.gunning_fog(text),\n",
    "        'linsear_write' : textstat.linsear_write_formula(text)\n",
    "    }\n",
    "    return readability_scores\n",
    "\n",
    "# Example usage\n",
    "file_path = '/Users/Document/CS701/experiment/Text/rxjava-3/rxjava-3_ChatGPT.txt'  # Replace 'your_file.txt' with the path to your text file\n",
    "text = read_text_from_file(file_path)\n",
    "readability_scores = evaluate_text(text)\n",
    "\n",
    "# Printing the results\n",
    "for key, value in readability_scores.items():\n",
    "    print(f\"{key}: {value}\")"
   ]
  },
  {
   "cell_type": "code",
   "execution_count": 6,
   "id": "e5c95eff-a551-4a0c-b65a-103ebb590b41",
   "metadata": {},
   "outputs": [
    {
     "name": "stdout",
     "output_type": "stream",
     "text": [
      "Flesch Reading Ease: 76.72\n",
      "SMOG Index: 9.2\n",
      "Flesch-Kincaid Grade: 5.4\n",
      "Coleman-Liau Index: 7.87\n",
      "Automated Readability Index: 7.1\n",
      "Dale-Chall Readability Score: 7.47\n",
      "Difficult Words: 24\n",
      "Lexicon Count: 184\n",
      "Sentence Count: 16\n",
      "Reading Time (minutes): 13.04\n",
      "gunning_fog: 6.99\n",
      "linsear_write: 3.666666666666667\n"
     ]
    }
   ],
   "source": [
    "# Function to read text from a file\n",
    "def read_text_from_file(file_path):\n",
    "    with open(file_path, 'r', encoding='utf-8') as file:\n",
    "        text = file.read()\n",
    "    return text\n",
    "\n",
    "# Function to evaluate text using textstat\n",
    "def evaluate_text(text):\n",
    "    readability_scores = {\n",
    "        'Flesch Reading Ease': textstat.flesch_reading_ease(text),\n",
    "        'SMOG Index': textstat.smog_index(text),\n",
    "        'Flesch-Kincaid Grade': textstat.flesch_kincaid_grade(text),\n",
    "        'Coleman-Liau Index': textstat.coleman_liau_index(text),\n",
    "        'Automated Readability Index': textstat.automated_readability_index(text),\n",
    "        'Dale-Chall Readability Score': textstat.dale_chall_readability_score(text),\n",
    "        'Difficult Words': textstat.difficult_words(text),\n",
    "        'Lexicon Count': textstat.lexicon_count(text, removepunct=True),\n",
    "        'Sentence Count': textstat.sentence_count(text),\n",
    "        'Reading Time (minutes)': textstat.reading_time(text),\n",
    "         'gunning_fog' : textstat.gunning_fog(text),\n",
    "        'linsear_write' : textstat.linsear_write_formula(text)\n",
    "    }\n",
    "    return readability_scores\n",
    "\n",
    "# Example usage\n",
    "file_path = '/Users/Document/CS701/experiment/Text/rxjava-3/rxjava-3_Gemini.txt'  # Replace 'your_file.txt' with the path to your text file\n",
    "text = read_text_from_file(file_path)\n",
    "readability_scores = evaluate_text(text)\n",
    "\n",
    "# Printing the results\n",
    "for key, value in readability_scores.items():\n",
    "    print(f\"{key}: {value}\")"
   ]
  },
  {
   "cell_type": "code",
   "execution_count": null,
   "id": "881c992d-444b-4bfe-8579-5262d59e3bfb",
   "metadata": {},
   "outputs": [],
   "source": []
  }
 ],
 "metadata": {
  "kernelspec": {
   "display_name": "Python 3 (ipykernel)",
   "language": "python",
   "name": "python3"
  },
  "language_info": {
   "codemirror_mode": {
    "name": "ipython",
    "version": 3
   },
   "file_extension": ".py",
   "mimetype": "text/x-python",
   "name": "python",
   "nbconvert_exporter": "python",
   "pygments_lexer": "ipython3",
   "version": "3.11.5"
  }
 },
 "nbformat": 4,
 "nbformat_minor": 5
}
