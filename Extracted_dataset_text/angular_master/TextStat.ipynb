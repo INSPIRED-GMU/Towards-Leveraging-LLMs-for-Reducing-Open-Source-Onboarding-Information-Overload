{
 "cells": [
  {
   "cell_type": "code",
   "execution_count": 5,
   "id": "8572c24d-a163-4ee8-b2dc-efc0e733f508",
   "metadata": {},
   "outputs": [],
   "source": [
    "import textstat"
   ]
  },
  {
   "cell_type": "raw",
   "id": "2e8d4c93-2458-461a-859f-ff8c54816abf",
   "metadata": {},
   "source": [
    "Original Document "
   ]
  },
  {
   "cell_type": "code",
   "execution_count": 2,
   "id": "9a16e16b-73c0-4fa5-ad31-cebf3ca1d840",
   "metadata": {},
   "outputs": [
    {
     "name": "stdout",
     "output_type": "stream",
     "text": [
      "Flesch Reading Ease: 60.85\n",
      "SMOG Index: 11.6\n",
      "Flesch-Kincaid Grade: 9.4\n",
      "Coleman-Liau Index: 10.79\n",
      "Automated Readability Index: 11.6\n",
      "Dale-Chall Readability Score: 7.59\n",
      "Difficult Words: 248\n",
      "Lexicon Count: 1713\n",
      "Sentence Count: 91\n",
      "Reading Time (minutes): 126.0\n",
      "gunning_fog: 10.21\n",
      "linsear_write: 8.833333333333334\n"
     ]
    }
   ],
   "source": [
    "# Function to read text from a file\n",
    "def read_text_from_file(file_path):\n",
    "    with open(file_path, 'r', encoding='utf-8') as file:\n",
    "        text = file.read()\n",
    "    return text\n",
    "\n",
    "# Function to evaluate text using textstat\n",
    "def evaluate_text(text):\n",
    "    readability_scores = {\n",
    "        'Flesch Reading Ease': textstat.flesch_reading_ease(text),\n",
    "        'SMOG Index': textstat.smog_index(text),\n",
    "        'Flesch-Kincaid Grade': textstat.flesch_kincaid_grade(text),\n",
    "        'Coleman-Liau Index': textstat.coleman_liau_index(text),\n",
    "        'Automated Readability Index': textstat.automated_readability_index(text),\n",
    "        'Dale-Chall Readability Score': textstat.dale_chall_readability_score(text),\n",
    "        'Difficult Words': textstat.difficult_words(text),\n",
    "        'Lexicon Count': textstat.lexicon_count(text, removepunct=True),\n",
    "        'Sentence Count': textstat.sentence_count(text),\n",
    "        'Reading Time (minutes)': textstat.reading_time(text),\n",
    "          'gunning_fog' : textstat.gunning_fog(text),\n",
    "        'linsear_write' : textstat.linsear_write_formula(text)\n",
    "    }\n",
    "    return readability_scores\n",
    "\n",
    "# Example usage\n",
    "file_path = '/Users/Document/CS701/experiment/Text/angular_master/angular-master_original.txt'  # Replace 'your_file.txt' with the path to your text file\n",
    "text = read_text_from_file(file_path)\n",
    "readability_scores = evaluate_text(text)\n",
    "\n",
    "# Printing the results\n",
    "for key, value in readability_scores.items():\n",
    "    print(f\"{key}: {value}\")\n"
   ]
  },
  {
   "cell_type": "raw",
   "id": "26f3c1b0-a5ff-49a3-aaa9-f784a4accc07",
   "metadata": {},
   "source": [
    "ChatGPT simplified"
   ]
  },
  {
   "cell_type": "code",
   "execution_count": 3,
   "id": "f2c6773f-d642-4841-ae30-c027a766c3a9",
   "metadata": {},
   "outputs": [
    {
     "name": "stdout",
     "output_type": "stream",
     "text": [
      "Flesch Reading Ease: 79.26\n",
      "SMOG Index: 8.0\n",
      "Flesch-Kincaid Grade: 4.4\n",
      "Coleman-Liau Index: 8.96\n",
      "Automated Readability Index: 7.7\n",
      "Dale-Chall Readability Score: 8.72\n",
      "Difficult Words: 68\n",
      "Lexicon Count: 378\n",
      "Sentence Count: 42\n",
      "Reading Time (minutes): 29.0\n",
      "gunning_fog: 6.03\n",
      "linsear_write: 4.2727272727272725\n"
     ]
    }
   ],
   "source": [
    "# Function to read text from a file\n",
    "def read_text_from_file(file_path):\n",
    "    with open(file_path, 'r', encoding='utf-8') as file:\n",
    "        text = file.read()\n",
    "    return text\n",
    "\n",
    "# Function to evaluate text using textstat\n",
    "def evaluate_text(text):\n",
    "    readability_scores = {\n",
    "        'Flesch Reading Ease': textstat.flesch_reading_ease(text),\n",
    "        'SMOG Index': textstat.smog_index(text),\n",
    "        'Flesch-Kincaid Grade': textstat.flesch_kincaid_grade(text),\n",
    "        'Coleman-Liau Index': textstat.coleman_liau_index(text),\n",
    "        'Automated Readability Index': textstat.automated_readability_index(text),\n",
    "        'Dale-Chall Readability Score': textstat.dale_chall_readability_score(text),\n",
    "        'Difficult Words': textstat.difficult_words(text),\n",
    "        'Lexicon Count': textstat.lexicon_count(text, removepunct=True),\n",
    "        'Sentence Count': textstat.sentence_count(text),\n",
    "        'Reading Time (minutes)': textstat.reading_time(text),\n",
    "          'gunning_fog' : textstat.gunning_fog(text),\n",
    "        'linsear_write' : textstat.linsear_write_formula(text)\n",
    "    }\n",
    "    return readability_scores\n",
    "\n",
    "# Example usage\n",
    "file_path = '/Users/Document/CS701/experiment/Text/angular_master/angular-master_ChatGPT.txt'  # Replace 'your_file.txt' with the path to your text file\n",
    "text = read_text_from_file(file_path)\n",
    "readability_scores = evaluate_text(text)\n",
    "\n",
    "# Printing the results\n",
    "for key, value in readability_scores.items():\n",
    "    print(f\"{key}: {value}\")\n"
   ]
  },
  {
   "cell_type": "raw",
   "id": "e4aec55c-fbf0-4829-af46-7ef2e560b702",
   "metadata": {},
   "source": [
    "Gemini Simplified"
   ]
  },
  {
   "cell_type": "code",
   "execution_count": 4,
   "id": "1afb9e75-ab7f-4a0c-887c-ba92c910459c",
   "metadata": {},
   "outputs": [
    {
     "name": "stdout",
     "output_type": "stream",
     "text": [
      "Flesch Reading Ease: 71.0\n",
      "SMOG Index: 9.2\n",
      "Flesch-Kincaid Grade: 5.5\n",
      "Coleman-Liau Index: 10.64\n",
      "Automated Readability Index: 8.5\n",
      "Dale-Chall Readability Score: 8.11\n",
      "Difficult Words: 60\n",
      "Lexicon Count: 317\n",
      "Sentence Count: 36\n",
      "Reading Time (minutes): 25.25\n",
      "gunning_fog: 6.8\n",
      "linsear_write: 4.083333333333333\n"
     ]
    }
   ],
   "source": [
    "# Function to read text from a file\n",
    "def read_text_from_file(file_path):\n",
    "    with open(file_path, 'r', encoding='utf-8') as file:\n",
    "        text = file.read()\n",
    "    return text\n",
    "\n",
    "# Function to evaluate text using textstat\n",
    "def evaluate_text(text):\n",
    "    readability_scores = {\n",
    "        'Flesch Reading Ease': textstat.flesch_reading_ease(text),\n",
    "        'SMOG Index': textstat.smog_index(text),\n",
    "        'Flesch-Kincaid Grade': textstat.flesch_kincaid_grade(text),\n",
    "        'Coleman-Liau Index': textstat.coleman_liau_index(text),\n",
    "        'Automated Readability Index': textstat.automated_readability_index(text),\n",
    "        'Dale-Chall Readability Score': textstat.dale_chall_readability_score(text),\n",
    "        'Difficult Words': textstat.difficult_words(text),\n",
    "        'Lexicon Count': textstat.lexicon_count(text, removepunct=True),\n",
    "        'Sentence Count': textstat.sentence_count(text),\n",
    "        'Reading Time (minutes)': textstat.reading_time(text),\n",
    "          'gunning_fog' : textstat.gunning_fog(text),\n",
    "        'linsear_write' : textstat.linsear_write_formula(text)\n",
    "    }\n",
    "    return readability_scores\n",
    "\n",
    "# Example usage\n",
    "file_path = '/Users/Document/CS701/experiment/Text/angular_master/angular-master_Gemini.txt'  # Replace 'your_file.txt' with the path to your text file\n",
    "text = read_text_from_file(file_path)\n",
    "readability_scores = evaluate_text(text)\n",
    "\n",
    "# Printing the results\n",
    "for key, value in readability_scores.items():\n",
    "    print(f\"{key}: {value}\")\n"
   ]
  },
  {
   "cell_type": "code",
   "execution_count": null,
   "id": "b118b90a-5432-4dd0-bae5-56321630f75a",
   "metadata": {},
   "outputs": [],
   "source": []
  }
 ],
 "metadata": {
  "kernelspec": {
   "display_name": "Python 3 (ipykernel)",
   "language": "python",
   "name": "python3"
  },
  "language_info": {
   "codemirror_mode": {
    "name": "ipython",
    "version": 3
   },
   "file_extension": ".py",
   "mimetype": "text/x-python",
   "name": "python",
   "nbconvert_exporter": "python",
   "pygments_lexer": "ipython3",
   "version": "3.11.5"
  }
 },
 "nbformat": 4,
 "nbformat_minor": 5
}
