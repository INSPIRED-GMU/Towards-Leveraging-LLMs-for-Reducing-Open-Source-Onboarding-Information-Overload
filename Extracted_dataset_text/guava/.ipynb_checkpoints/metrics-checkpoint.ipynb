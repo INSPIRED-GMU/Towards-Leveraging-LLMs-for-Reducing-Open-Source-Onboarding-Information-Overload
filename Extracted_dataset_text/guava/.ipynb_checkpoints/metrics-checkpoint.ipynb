{
 "cells": [
  {
   "cell_type": "code",
   "execution_count": 1,
   "id": "b95bf50c-064e-4856-87a4-f691f29366b0",
   "metadata": {},
   "outputs": [],
   "source": [
    "from bert_score import score\n",
    "import textstat"
   ]
  },
  {
   "cell_type": "code",
   "execution_count": 5,
   "id": "5cddc895-3c29-4900-840e-f6d6d359f495",
   "metadata": {},
   "outputs": [
    {
     "name": "stderr",
     "output_type": "stream",
     "text": [
      "Some weights of RobertaModel were not initialized from the model checkpoint at roberta-large and are newly initialized: ['roberta.pooler.dense.bias', 'roberta.pooler.dense.weight']\n",
      "You should probably TRAIN this model on a down-stream task to be able to use it for predictions and inference.\n"
     ]
    },
    {
     "name": "stdout",
     "output_type": "stream",
     "text": [
      "P: 0.9036158919334412, Recall: 0.8997267484664917, F1: 0.9016671776771545\n"
     ]
    }
   ],
   "source": [
    "def read_file_as_one_string(file_path):\n",
    "    with open(file_path, 'r', encoding='utf-8') as file:\n",
    "        content = file.read().strip()  # Read the entire file content and strip leading/trailing whitespace\n",
    "    return content\n",
    "\n",
    "# Replace 'path/to/your' with the actual paths to your files\n",
    "reference_text  = read_file_as_one_string('/Users/elijahadejumo/Document/CS701/experiment/Text/guava/guava_original.txt')\n",
    "candidate_text  = read_file_as_one_string('/Users/elijahadejumo/Document/CS701/experiment/Text/guava/guava_ChatGPT.txt')\n",
    "\n",
    "# Wrap texts in lists to form one-to-one pairs\n",
    "candidates = [candidate_text]\n",
    "references = [reference_text]\n",
    "\n",
    "# Compute BERTScore\n",
    "P, R, F1 = score(candidates, references, lang='en')\n",
    "print(f\"P: {P.mean()}, Recall: {R.mean()}, F1: {F1.mean()}\")"
   ]
  },
  {
   "cell_type": "code",
   "execution_count": 6,
   "id": "b5b88aa8-5917-413e-bd43-679ed94cf5e0",
   "metadata": {},
   "outputs": [
    {
     "name": "stderr",
     "output_type": "stream",
     "text": [
      "Some weights of RobertaModel were not initialized from the model checkpoint at roberta-large and are newly initialized: ['roberta.pooler.dense.bias', 'roberta.pooler.dense.weight']\n",
      "You should probably TRAIN this model on a down-stream task to be able to use it for predictions and inference.\n"
     ]
    },
    {
     "name": "stdout",
     "output_type": "stream",
     "text": [
      "P: 0.8643640279769897, Recall: 0.8488208651542664, F1: 0.8565219640731812\n"
     ]
    }
   ],
   "source": [
    "def read_file_as_one_string(file_path):\n",
    "    with open(file_path, 'r', encoding='utf-8') as file:\n",
    "        content = file.read().strip()  # Read the entire file content and strip leading/trailing whitespace\n",
    "    return content\n",
    "\n",
    "# Replace 'path/to/your' with the actual paths to your files\n",
    "reference_text  = read_file_as_one_string('/Users/elijahadejumo/Document/CS701/experiment/Text/guava/guava_original.txt')\n",
    "candidate_text  = read_file_as_one_string('/Users/elijahadejumo/Document/CS701/experiment/Text/guava/guava_Gemini.txt')\n",
    "\n",
    "# Wrap texts in lists to form one-to-one pairs\n",
    "candidates = [candidate_text]\n",
    "references = [reference_text]\n",
    "\n",
    "# Compute BERTScore\n",
    "P, R, F1 = score(candidates, references, lang='en')\n",
    "print(f\"P: {P.mean()}, Recall: {R.mean()}, F1: {F1.mean()}\")"
   ]
  },
  {
   "cell_type": "code",
   "execution_count": 7,
   "id": "5a6875f7-b429-40d6-a502-e7b2423b3aee",
   "metadata": {},
   "outputs": [
    {
     "name": "stdout",
     "output_type": "stream",
     "text": [
      "Flesch Reading Ease: 56.35\n",
      "SMOG Index: 11.0\n",
      "Flesch-Kincaid Grade: 9.1\n",
      "Coleman-Liau Index: 12.35\n",
      "Automated Readability Index: 11.9\n",
      "Dale-Chall Readability Score: 8.63\n",
      "Difficult Words: 96\n",
      "Lexicon Count: 535\n",
      "Sentence Count: 36\n",
      "Reading Time (minutes): 43.22\n",
      "gunning_fog: 9.25\n",
      "linsear_write: 5.2\n"
     ]
    }
   ],
   "source": [
    "# Function to read text from a file\n",
    "def read_text_from_file(file_path):\n",
    "    with open(file_path, 'r', encoding='utf-8') as file:\n",
    "        text = file.read()\n",
    "    return text\n",
    "\n",
    "# Function to evaluate text using textstat\n",
    "def evaluate_text(text):\n",
    "    readability_scores = {\n",
    "        'Flesch Reading Ease': textstat.flesch_reading_ease(text),\n",
    "        'SMOG Index': textstat.smog_index(text),\n",
    "        'Flesch-Kincaid Grade': textstat.flesch_kincaid_grade(text),\n",
    "        'Coleman-Liau Index': textstat.coleman_liau_index(text),\n",
    "        'Automated Readability Index': textstat.automated_readability_index(text),\n",
    "        'Dale-Chall Readability Score': textstat.dale_chall_readability_score(text),\n",
    "        'Difficult Words': textstat.difficult_words(text),\n",
    "        'Lexicon Count': textstat.lexicon_count(text, removepunct=True),\n",
    "        'Sentence Count': textstat.sentence_count(text),\n",
    "        'Reading Time (minutes)': textstat.reading_time(text),\n",
    "         'gunning_fog' : textstat.gunning_fog(text),\n",
    "        'linsear_write' : textstat.linsear_write_formula(text)\n",
    "    }\n",
    "    return readability_scores\n",
    "\n",
    "# Example usage\n",
    "file_path = '/Users/elijahadejumo/Document/CS701/experiment/Text/guava/guava_original.txt'  # Replace 'your_file.txt' with the path to your text file\n",
    "text = read_text_from_file(file_path)\n",
    "readability_scores = evaluate_text(text)\n",
    "\n",
    "# Printing the results\n",
    "for key, value in readability_scores.items():\n",
    "    print(f\"{key}: {value}\")"
   ]
  },
  {
   "cell_type": "code",
   "execution_count": 8,
   "id": "f27596f6-d27f-439a-bed0-26636830d8b4",
   "metadata": {},
   "outputs": [
    {
     "name": "stdout",
     "output_type": "stream",
     "text": [
      "Flesch Reading Ease: 75.4\n",
      "SMOG Index: 8.0\n",
      "Flesch-Kincaid Grade: 5.9\n",
      "Coleman-Liau Index: 9.85\n",
      "Automated Readability Index: 9.4\n",
      "Dale-Chall Readability Score: 7.77\n",
      "Difficult Words: 50\n",
      "Lexicon Count: 447\n",
      "Sentence Count: 35\n",
      "Reading Time (minutes): 34.14\n",
      "gunning_fog: 6.46\n",
      "linsear_write: 4.777777777777778\n"
     ]
    }
   ],
   "source": [
    "# Function to read text from a file\n",
    "def read_text_from_file(file_path):\n",
    "    with open(file_path, 'r', encoding='utf-8') as file:\n",
    "        text = file.read()\n",
    "    return text\n",
    "\n",
    "# Function to evaluate text using textstat\n",
    "def evaluate_text(text):\n",
    "    readability_scores = {\n",
    "        'Flesch Reading Ease': textstat.flesch_reading_ease(text),\n",
    "        'SMOG Index': textstat.smog_index(text),\n",
    "        'Flesch-Kincaid Grade': textstat.flesch_kincaid_grade(text),\n",
    "        'Coleman-Liau Index': textstat.coleman_liau_index(text),\n",
    "        'Automated Readability Index': textstat.automated_readability_index(text),\n",
    "        'Dale-Chall Readability Score': textstat.dale_chall_readability_score(text),\n",
    "        'Difficult Words': textstat.difficult_words(text),\n",
    "        'Lexicon Count': textstat.lexicon_count(text, removepunct=True),\n",
    "        'Sentence Count': textstat.sentence_count(text),\n",
    "        'Reading Time (minutes)': textstat.reading_time(text),\n",
    "         'gunning_fog' : textstat.gunning_fog(text),\n",
    "        'linsear_write' : textstat.linsear_write_formula(text)\n",
    "    }\n",
    "    return readability_scores\n",
    "\n",
    "# Example usage\n",
    "file_path = '/Users/elijahadejumo/Document/CS701/experiment/Text/guava/guava_ChatGPT.txt'  # Replace 'your_file.txt' with the path to your text file\n",
    "text = read_text_from_file(file_path)\n",
    "readability_scores = evaluate_text(text)\n",
    "\n",
    "# Printing the results\n",
    "for key, value in readability_scores.items():\n",
    "    print(f\"{key}: {value}\")"
   ]
  },
  {
   "cell_type": "code",
   "execution_count": 9,
   "id": "ac1252b8-8049-4a71-81f6-71be02658566",
   "metadata": {},
   "outputs": [
    {
     "name": "stdout",
     "output_type": "stream",
     "text": [
      "Flesch Reading Ease: 67.55\n",
      "SMOG Index: 9.6\n",
      "Flesch-Kincaid Grade: 6.9\n",
      "Coleman-Liau Index: 10.37\n",
      "Automated Readability Index: 8.9\n",
      "Dale-Chall Readability Score: 8.77\n",
      "Difficult Words: 55\n",
      "Lexicon Count: 293\n",
      "Sentence Count: 24\n",
      "Reading Time (minutes): 22.17\n",
      "gunning_fog: 8.16\n",
      "linsear_write: 6.375\n"
     ]
    }
   ],
   "source": [
    "# Function to read text from a file\n",
    "def read_text_from_file(file_path):\n",
    "    with open(file_path, 'r', encoding='utf-8') as file:\n",
    "        text = file.read()\n",
    "    return text\n",
    "\n",
    "# Function to evaluate text using textstat\n",
    "def evaluate_text(text):\n",
    "    readability_scores = {\n",
    "        'Flesch Reading Ease': textstat.flesch_reading_ease(text),\n",
    "        'SMOG Index': textstat.smog_index(text),\n",
    "        'Flesch-Kincaid Grade': textstat.flesch_kincaid_grade(text),\n",
    "        'Coleman-Liau Index': textstat.coleman_liau_index(text),\n",
    "        'Automated Readability Index': textstat.automated_readability_index(text),\n",
    "        'Dale-Chall Readability Score': textstat.dale_chall_readability_score(text),\n",
    "        'Difficult Words': textstat.difficult_words(text),\n",
    "        'Lexicon Count': textstat.lexicon_count(text, removepunct=True),\n",
    "        'Sentence Count': textstat.sentence_count(text),\n",
    "        'Reading Time (minutes)': textstat.reading_time(text),\n",
    "         'gunning_fog' : textstat.gunning_fog(text),\n",
    "        'linsear_write' : textstat.linsear_write_formula(text)\n",
    "    }\n",
    "    return readability_scores\n",
    "\n",
    "# Example usage\n",
    "file_path = '/Users/elijahadejumo/Document/CS701/experiment/Text/guava/guava_Gemini.txt'  # Replace 'your_file.txt' with the path to your text file\n",
    "text = read_text_from_file(file_path)\n",
    "readability_scores = evaluate_text(text)\n",
    "\n",
    "# Printing the results\n",
    "for key, value in readability_scores.items():\n",
    "    print(f\"{key}: {value}\")"
   ]
  },
  {
   "cell_type": "code",
   "execution_count": null,
   "id": "f13a9dc0-56af-43aa-80a7-e4abc6265845",
   "metadata": {},
   "outputs": [],
   "source": []
  }
 ],
 "metadata": {
  "kernelspec": {
   "display_name": "Python 3 (ipykernel)",
   "language": "python",
   "name": "python3"
  },
  "language_info": {
   "codemirror_mode": {
    "name": "ipython",
    "version": 3
   },
   "file_extension": ".py",
   "mimetype": "text/x-python",
   "name": "python",
   "nbconvert_exporter": "python",
   "pygments_lexer": "ipython3",
   "version": "3.11.5"
  }
 },
 "nbformat": 4,
 "nbformat_minor": 5
}
