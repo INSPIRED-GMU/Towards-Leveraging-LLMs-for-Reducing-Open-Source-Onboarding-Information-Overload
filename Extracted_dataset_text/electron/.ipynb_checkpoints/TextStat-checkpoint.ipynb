{
 "cells": [
  {
   "cell_type": "code",
   "execution_count": 1,
   "id": "c0f3786d-99ae-492b-8571-e26badd58b4e",
   "metadata": {},
   "outputs": [],
   "source": [
    "import textstat"
   ]
  },
  {
   "cell_type": "raw",
   "id": "eb448b3a-8a28-47a2-9897-3ccf7ddd5c48",
   "metadata": {},
   "source": [
    "Original Document "
   ]
  },
  {
   "cell_type": "code",
   "execution_count": 2,
   "id": "b731bed4-09d9-4594-9b64-df4f8399b1ca",
   "metadata": {},
   "outputs": [
    {
     "name": "stdout",
     "output_type": "stream",
     "text": [
      "Flesch Reading Ease: 53.0\n",
      "SMOG Index: 11.8\n",
      "Flesch-Kincaid Grade: 10.4\n",
      "Coleman-Liau Index: 12.01\n",
      "Automated Readability Index: 12.3\n",
      "Dale-Chall Readability Score: 9.46\n",
      "Difficult Words: 87\n",
      "Lexicon Count: 382\n",
      "Sentence Count: 21\n",
      "Reading Time (minutes): 29.35\n"
     ]
    }
   ],
   "source": [
    "# Function to read text from a file\n",
    "def read_text_from_file(file_path):\n",
    "    with open(file_path, 'r', encoding='utf-8') as file:\n",
    "        text = file.read()\n",
    "    return text\n",
    "\n",
    "# Function to evaluate text using textstat\n",
    "def evaluate_text(text):\n",
    "    readability_scores = {\n",
    "        'Flesch Reading Ease': textstat.flesch_reading_ease(text),\n",
    "        'SMOG Index': textstat.smog_index(text),\n",
    "        'Flesch-Kincaid Grade': textstat.flesch_kincaid_grade(text),\n",
    "        'Coleman-Liau Index': textstat.coleman_liau_index(text),\n",
    "        'Automated Readability Index': textstat.automated_readability_index(text),\n",
    "        'Dale-Chall Readability Score': textstat.dale_chall_readability_score(text),\n",
    "        'Difficult Words': textstat.difficult_words(text),\n",
    "        'Lexicon Count': textstat.lexicon_count(text, removepunct=True),\n",
    "        'Sentence Count': textstat.sentence_count(text),\n",
    "        'Reading Time (minutes)': textstat.reading_time(text),\n",
    "    }\n",
    "    return readability_scores\n",
    "\n",
    "# Example usage\n",
    "file_path = '/Users/elijahadejumo/Document/CS701/experiment/Text/electron/electron_original.txt'  # Replace 'your_file.txt' with the path to your text file\n",
    "text = read_text_from_file(file_path)\n",
    "readability_scores = evaluate_text(text)\n",
    "\n",
    "# Printing the results\n",
    "for key, value in readability_scores.items():\n",
    "    print(f\"{key}: {value}\")"
   ]
  },
  {
   "cell_type": "code",
   "execution_count": 3,
   "id": "8b13737d-8a6c-4116-a24c-f1421932f6b7",
   "metadata": {},
   "outputs": [
    {
     "name": "stdout",
     "output_type": "stream",
     "text": [
      "Flesch Reading Ease: 61.73\n",
      "SMOG Index: 8.5\n",
      "Flesch-Kincaid Grade: 7.0\n",
      "Coleman-Liau Index: 12.04\n",
      "Automated Readability Index: 10.1\n",
      "Dale-Chall Readability Score: 8.84\n",
      "Difficult Words: 67\n",
      "Lexicon Count: 384\n",
      "Sentence Count: 40\n",
      "Reading Time (minutes): 32.02\n"
     ]
    }
   ],
   "source": [
    "# Function to read text from a file\n",
    "def read_text_from_file(file_path):\n",
    "    with open(file_path, 'r', encoding='utf-8') as file:\n",
    "        text = file.read()\n",
    "    return text\n",
    "\n",
    "# Function to evaluate text using textstat\n",
    "def evaluate_text(text):\n",
    "    readability_scores = {\n",
    "        'Flesch Reading Ease': textstat.flesch_reading_ease(text),\n",
    "        'SMOG Index': textstat.smog_index(text),\n",
    "        'Flesch-Kincaid Grade': textstat.flesch_kincaid_grade(text),\n",
    "        'Coleman-Liau Index': textstat.coleman_liau_index(text),\n",
    "        'Automated Readability Index': textstat.automated_readability_index(text),\n",
    "        'Dale-Chall Readability Score': textstat.dale_chall_readability_score(text),\n",
    "        'Difficult Words': textstat.difficult_words(text),\n",
    "        'Lexicon Count': textstat.lexicon_count(text, removepunct=True),\n",
    "        'Sentence Count': textstat.sentence_count(text),\n",
    "        'Reading Time (minutes)': textstat.reading_time(text),\n",
    "    }\n",
    "    return readability_scores\n",
    "\n",
    "# Example usage\n",
    "file_path = '/Users/elijahadejumo/Document/CS701/experiment/Text/electron/electron_ChatGPT.txt'  # Replace 'your_file.txt' with the path to your text file\n",
    "text = read_text_from_file(file_path)\n",
    "readability_scores = evaluate_text(text)\n",
    "\n",
    "# Printing the results\n",
    "for key, value in readability_scores.items():\n",
    "    print(f\"{key}: {value}\")"
   ]
  },
  {
   "cell_type": "code",
   "execution_count": 4,
   "id": "50413f35-5520-45ef-9a59-c86c6c175808",
   "metadata": {},
   "outputs": [
    {
     "name": "stdout",
     "output_type": "stream",
     "text": [
      "Flesch Reading Ease: 75.71\n",
      "SMOG Index: 8.7\n",
      "Flesch-Kincaid Grade: 5.8\n",
      "Coleman-Liau Index: 9.9\n",
      "Automated Readability Index: 9.1\n",
      "Dale-Chall Readability Score: 7.15\n",
      "Difficult Words: 37\n",
      "Lexicon Count: 262\n",
      "Sentence Count: 21\n",
      "Reading Time (minutes): 19.83\n"
     ]
    }
   ],
   "source": [
    "# Function to read text from a file\n",
    "def read_text_from_file(file_path):\n",
    "    with open(file_path, 'r', encoding='utf-8') as file:\n",
    "        text = file.read()\n",
    "    return text\n",
    "\n",
    "# Function to evaluate text using textstat\n",
    "def evaluate_text(text):\n",
    "    readability_scores = {\n",
    "        'Flesch Reading Ease': textstat.flesch_reading_ease(text),\n",
    "        'SMOG Index': textstat.smog_index(text),\n",
    "        'Flesch-Kincaid Grade': textstat.flesch_kincaid_grade(text),\n",
    "        'Coleman-Liau Index': textstat.coleman_liau_index(text),\n",
    "        'Automated Readability Index': textstat.automated_readability_index(text),\n",
    "        'Dale-Chall Readability Score': textstat.dale_chall_readability_score(text),\n",
    "        'Difficult Words': textstat.difficult_words(text),\n",
    "        'Lexicon Count': textstat.lexicon_count(text, removepunct=True),\n",
    "        'Sentence Count': textstat.sentence_count(text),\n",
    "        'Reading Time (minutes)': textstat.reading_time(text),\n",
    "    }\n",
    "    return readability_scores\n",
    "\n",
    "# Example usage\n",
    "file_path = '/Users/elijahadejumo/Document/CS701/experiment/Text/electron/electron_Gemini.txt'  # Replace 'your_file.txt' with the path to your text file\n",
    "text = read_text_from_file(file_path)\n",
    "readability_scores = evaluate_text(text)\n",
    "\n",
    "# Printing the results\n",
    "for key, value in readability_scores.items():\n",
    "    print(f\"{key}: {value}\")"
   ]
  },
  {
   "cell_type": "code",
   "execution_count": null,
   "id": "047741d5-d337-4053-b225-ec2b71e8ef2c",
   "metadata": {},
   "outputs": [],
   "source": []
  }
 ],
 "metadata": {
  "kernelspec": {
   "display_name": "Python 3 (ipykernel)",
   "language": "python",
   "name": "python3"
  },
  "language_info": {
   "codemirror_mode": {
    "name": "ipython",
    "version": 3
   },
   "file_extension": ".py",
   "mimetype": "text/x-python",
   "name": "python",
   "nbconvert_exporter": "python",
   "pygments_lexer": "ipython3",
   "version": "3.11.5"
  }
 },
 "nbformat": 4,
 "nbformat_minor": 5
}
