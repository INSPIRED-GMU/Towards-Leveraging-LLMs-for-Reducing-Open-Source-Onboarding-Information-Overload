{
 "cells": [
  {
   "cell_type": "code",
   "execution_count": 1,
   "id": "6b6ec909-5d2b-4888-bff5-6a71f99b1169",
   "metadata": {},
   "outputs": [],
   "source": [
    "from bert_score import score\n",
    "import matplotlib.pyplot as plt\n",
    "import textstat"
   ]
  },
  {
   "cell_type": "raw",
   "id": "4f183c83-e4ba-4735-82a6-b9c6f2655e1b",
   "metadata": {},
   "source": [
    "Original vs ChatGPT BERTScore"
   ]
  },
  {
   "cell_type": "code",
   "execution_count": 2,
   "id": "4c92cf02-df1f-4908-906e-b674208ccd4a",
   "metadata": {},
   "outputs": [
    {
     "name": "stderr",
     "output_type": "stream",
     "text": [
      "/Users/elijahadejumo/anaconda3/lib/python3.11/site-packages/transformers/utils/generic.py:260: UserWarning: torch.utils._pytree._register_pytree_node is deprecated. Please use torch.utils._pytree.register_pytree_node instead.\n",
      "  torch.utils._pytree._register_pytree_node(\n",
      "Some weights of RobertaModel were not initialized from the model checkpoint at roberta-large and are newly initialized: ['roberta.pooler.dense.bias', 'roberta.pooler.dense.weight']\n",
      "You should probably TRAIN this model on a down-stream task to be able to use it for predictions and inference.\n"
     ]
    },
    {
     "name": "stdout",
     "output_type": "stream",
     "text": [
      "P: 0.8790530562400818, Recall: 0.8855603933334351, F1: 0.8822947144508362\n"
     ]
    }
   ],
   "source": [
    "def read_file_as_one_string(file_path):\n",
    "    with open(file_path, 'r', encoding='utf-8') as file:\n",
    "        content = file.read().strip()  # Read the entire file content and strip leading/trailing whitespace\n",
    "    return content\n",
    "# Replace 'path/to/your' with the actual paths to your files\n",
    "reference_text  = read_file_as_one_string('/Users/elijahadejumo/Document/CS701/experiment/Text/typescript/typescript_original.txt')\n",
    "candidate_text  = read_file_as_one_string('/Users/elijahadejumo/Document/CS701/experiment/Text/typescript/typescript_ChatGPT.txt')\n",
    "\n",
    "# Wrap texts in lists to form one-to-one pairs\n",
    "candidates = [candidate_text]\n",
    "references = [reference_text]\n",
    "\n",
    "# Compute BERTScore\n",
    "P, R, F1 = score(candidates, references, lang='en')\n",
    "print(f\"P: {P.mean()}, Recall: {R.mean()}, F1: {F1.mean()}\")"
   ]
  },
  {
   "cell_type": "code",
   "execution_count": 3,
   "id": "a05cf49b-0318-4947-b0cb-85892ac6ecad",
   "metadata": {},
   "outputs": [
    {
     "name": "stderr",
     "output_type": "stream",
     "text": [
      "Some weights of RobertaModel were not initialized from the model checkpoint at roberta-large and are newly initialized: ['roberta.pooler.dense.bias', 'roberta.pooler.dense.weight']\n",
      "You should probably TRAIN this model on a down-stream task to be able to use it for predictions and inference.\n"
     ]
    },
    {
     "name": "stdout",
     "output_type": "stream",
     "text": [
      "P: 0.8384696841239929, Recall: 0.8430094718933105, F1: 0.8407334089279175\n"
     ]
    }
   ],
   "source": [
    "def read_file_as_one_string(file_path):\n",
    "    with open(file_path, 'r', encoding='utf-8') as file:\n",
    "        content = file.read().strip()  # Read the entire file content and strip leading/trailing whitespace\n",
    "    return content\n",
    "# Replace 'path/to/your' with the actual paths to your files\n",
    "reference_text  = read_file_as_one_string('/Users/elijahadejumo/Document/CS701/experiment/Text/typescript/typescript_original.txt')\n",
    "candidate_text  = read_file_as_one_string('/Users/elijahadejumo/Document/CS701/experiment/Text/typescript/typescript_Gemini.txt')\n",
    "\n",
    "# Wrap texts in lists to form one-to-one pairs\n",
    "candidates = [candidate_text]\n",
    "references = [reference_text]\n",
    "\n",
    "# Compute BERTScore\n",
    "P, R, F1 = score(candidates, references, lang='en')\n",
    "print(f\"P: {P.mean()}, Recall: {R.mean()}, F1: {F1.mean()}\")"
   ]
  },
  {
   "cell_type": "code",
   "execution_count": 4,
   "id": "e720e2e9-b5c5-4fb8-81cf-d950dcf9aae6",
   "metadata": {},
   "outputs": [
    {
     "name": "stdout",
     "output_type": "stream",
     "text": [
      "Flesch Reading Ease: 57.06\n",
      "SMOG Index: 11.1\n",
      "Flesch-Kincaid Grade: 8.8\n",
      "Coleman-Liau Index: 13.16\n",
      "Automated Readability Index: 12.6\n",
      "Dale-Chall Readability Score: 8.06\n",
      "Difficult Words: 274\n",
      "Lexicon Count: 1717\n",
      "Sentence Count: 121\n",
      "Reading Time (minutes): 144.01\n",
      "gunning_fog: 8.76\n",
      "linsear_write: 5.1\n"
     ]
    }
   ],
   "source": [
    "# Function to read text from a file\n",
    "def read_text_from_file(file_path):\n",
    "    with open(file_path, 'r', encoding='utf-8') as file:\n",
    "        text = file.read()\n",
    "    return text\n",
    "\n",
    "# Function to evaluate text using textstat\n",
    "def evaluate_text(text):\n",
    "    readability_scores = {\n",
    "        'Flesch Reading Ease': textstat.flesch_reading_ease(text),\n",
    "        'SMOG Index': textstat.smog_index(text),\n",
    "        'Flesch-Kincaid Grade': textstat.flesch_kincaid_grade(text),\n",
    "        'Coleman-Liau Index': textstat.coleman_liau_index(text),\n",
    "        'Automated Readability Index': textstat.automated_readability_index(text),\n",
    "        'Dale-Chall Readability Score': textstat.dale_chall_readability_score(text),\n",
    "        'Difficult Words': textstat.difficult_words(text),\n",
    "        'Lexicon Count': textstat.lexicon_count(text, removepunct=True),\n",
    "        'Sentence Count': textstat.sentence_count(text),\n",
    "        'Reading Time (minutes)': textstat.reading_time(text),\n",
    "         'gunning_fog' : textstat.gunning_fog(text),\n",
    "        'linsear_write' : textstat.linsear_write_formula(text)\n",
    "    }\n",
    "    return readability_scores\n",
    "\n",
    "# Example usage\n",
    "file_path = '/Users/elijahadejumo/Document/CS701/experiment/Text/typescript/typescript_original.txt'  # Replace 'your_file.txt' with the path to your text file\n",
    "text = read_text_from_file(file_path)\n",
    "readability_scores = evaluate_text(text)\n",
    "\n",
    "# Printing the results\n",
    "for key, value in readability_scores.items():\n",
    "    print(f\"{key}: {value}\")"
   ]
  },
  {
   "cell_type": "code",
   "execution_count": 5,
   "id": "21adaa64-df24-46ee-a5ec-d889c928429b",
   "metadata": {},
   "outputs": [
    {
     "name": "stdout",
     "output_type": "stream",
     "text": [
      "Flesch Reading Ease: 62.75\n",
      "SMOG Index: 9.1\n",
      "Flesch-Kincaid Grade: 6.6\n",
      "Coleman-Liau Index: 11.79\n",
      "Automated Readability Index: 10.7\n",
      "Dale-Chall Readability Score: 9.29\n",
      "Difficult Words: 114\n",
      "Lexicon Count: 544\n",
      "Sentence Count: 63\n",
      "Reading Time (minutes): 47.11\n",
      "gunning_fog: 6.75\n",
      "linsear_write: 4.363636363636363\n"
     ]
    }
   ],
   "source": [
    "# Function to read text from a file\n",
    "def read_text_from_file(file_path):\n",
    "    with open(file_path, 'r', encoding='utf-8') as file:\n",
    "        text = file.read()\n",
    "    return text\n",
    "\n",
    "# Function to evaluate text using textstat\n",
    "def evaluate_text(text):\n",
    "    readability_scores = {\n",
    "        'Flesch Reading Ease': textstat.flesch_reading_ease(text),\n",
    "        'SMOG Index': textstat.smog_index(text),\n",
    "        'Flesch-Kincaid Grade': textstat.flesch_kincaid_grade(text),\n",
    "        'Coleman-Liau Index': textstat.coleman_liau_index(text),\n",
    "        'Automated Readability Index': textstat.automated_readability_index(text),\n",
    "        'Dale-Chall Readability Score': textstat.dale_chall_readability_score(text),\n",
    "        'Difficult Words': textstat.difficult_words(text),\n",
    "        'Lexicon Count': textstat.lexicon_count(text, removepunct=True),\n",
    "        'Sentence Count': textstat.sentence_count(text),\n",
    "        'Reading Time (minutes)': textstat.reading_time(text),\n",
    "         'gunning_fog' : textstat.gunning_fog(text),\n",
    "        'linsear_write' : textstat.linsear_write_formula(text)\n",
    "    }\n",
    "    return readability_scores\n",
    "\n",
    "# Example usage\n",
    "file_path = '/Users/elijahadejumo/Document/CS701/experiment/Text/typescript/typescript_ChatGPT.txt'  # Replace 'your_file.txt' with the path to your text file\n",
    "text = read_text_from_file(file_path)\n",
    "readability_scores = evaluate_text(text)\n",
    "\n",
    "# Printing the results\n",
    "for key, value in readability_scores.items():\n",
    "    print(f\"{key}: {value}\")"
   ]
  },
  {
   "cell_type": "code",
   "execution_count": 6,
   "id": "55c1996d-9e76-40d3-ae36-d4ab48084221",
   "metadata": {},
   "outputs": [
    {
     "name": "stdout",
     "output_type": "stream",
     "text": [
      "Flesch Reading Ease: 53.37\n",
      "SMOG Index: 10.2\n",
      "Flesch-Kincaid Grade: 8.2\n",
      "Coleman-Liau Index: 14.18\n",
      "Automated Readability Index: 12.9\n",
      "Dale-Chall Readability Score: 9.93\n",
      "Difficult Words: 87\n",
      "Lexicon Count: 380\n",
      "Sentence Count: 40\n",
      "Reading Time (minutes): 35.04\n",
      "gunning_fog: 8.43\n",
      "linsear_write: 5.545454545454546\n"
     ]
    }
   ],
   "source": [
    "# Function to read text from a file\n",
    "def read_text_from_file(file_path):\n",
    "    with open(file_path, 'r', encoding='utf-8') as file:\n",
    "        text = file.read()\n",
    "    return text\n",
    "\n",
    "# Function to evaluate text using textstat\n",
    "def evaluate_text(text):\n",
    "    readability_scores = {\n",
    "        'Flesch Reading Ease': textstat.flesch_reading_ease(text),\n",
    "        'SMOG Index': textstat.smog_index(text),\n",
    "        'Flesch-Kincaid Grade': textstat.flesch_kincaid_grade(text),\n",
    "        'Coleman-Liau Index': textstat.coleman_liau_index(text),\n",
    "        'Automated Readability Index': textstat.automated_readability_index(text),\n",
    "        'Dale-Chall Readability Score': textstat.dale_chall_readability_score(text),\n",
    "        'Difficult Words': textstat.difficult_words(text),\n",
    "        'Lexicon Count': textstat.lexicon_count(text, removepunct=True),\n",
    "        'Sentence Count': textstat.sentence_count(text),\n",
    "        'Reading Time (minutes)': textstat.reading_time(text),\n",
    "         'gunning_fog' : textstat.gunning_fog(text),\n",
    "        'linsear_write' : textstat.linsear_write_formula(text)\n",
    "    }\n",
    "    return readability_scores\n",
    "\n",
    "# Example usage\n",
    "file_path = '/Users/elijahadejumo/Document/CS701/experiment/Text/typescript/typescript_Gemini.txt'  # Replace 'your_file.txt' with the path to your text file\n",
    "text = read_text_from_file(file_path)\n",
    "readability_scores = evaluate_text(text)\n",
    "\n",
    "# Printing the results\n",
    "for key, value in readability_scores.items():\n",
    "    print(f\"{key}: {value}\")"
   ]
  },
  {
   "cell_type": "code",
   "execution_count": null,
   "id": "b7fc1418-5e69-444b-8517-2643aa8537d4",
   "metadata": {},
   "outputs": [],
   "source": []
  }
 ],
 "metadata": {
  "kernelspec": {
   "display_name": "Python 3 (ipykernel)",
   "language": "python",
   "name": "python3"
  },
  "language_info": {
   "codemirror_mode": {
    "name": "ipython",
    "version": 3
   },
   "file_extension": ".py",
   "mimetype": "text/x-python",
   "name": "python",
   "nbconvert_exporter": "python",
   "pygments_lexer": "ipython3",
   "version": "3.11.5"
  }
 },
 "nbformat": 4,
 "nbformat_minor": 5
}
