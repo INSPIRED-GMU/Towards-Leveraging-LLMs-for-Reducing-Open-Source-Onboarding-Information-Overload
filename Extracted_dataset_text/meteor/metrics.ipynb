{
 "cells": [
  {
   "cell_type": "code",
   "execution_count": 1,
   "id": "464d25e4-a7bc-42ba-be39-f9e8a34c2196",
   "metadata": {},
   "outputs": [],
   "source": [
    "from bert_score import score\n",
    "import matplotlib.pyplot as plt\n",
    "import textstat"
   ]
  },
  {
   "cell_type": "raw",
   "id": "9e81ebe6-b2ce-4f22-921d-3454c121fe79",
   "metadata": {},
   "source": [
    "Original vs ChatGPT BERTScore"
   ]
  },
  {
   "cell_type": "code",
   "execution_count": 2,
   "id": "bf7d09b9-48b1-4e2d-9da4-dbfee6d9fea8",
   "metadata": {},
   "outputs": [
    {
     "name": "stderr",
     "output_type": "stream",
     "text": [
      "/Users/elijahadejumo/anaconda3/lib/python3.11/site-packages/transformers/utils/generic.py:260: UserWarning: torch.utils._pytree._register_pytree_node is deprecated. Please use torch.utils._pytree.register_pytree_node instead.\n",
      "  torch.utils._pytree._register_pytree_node(\n",
      "Some weights of RobertaModel were not initialized from the model checkpoint at roberta-large and are newly initialized: ['roberta.pooler.dense.bias', 'roberta.pooler.dense.weight']\n",
      "You should probably TRAIN this model on a down-stream task to be able to use it for predictions and inference.\n"
     ]
    },
    {
     "name": "stdout",
     "output_type": "stream",
     "text": [
      "P: 0.8406243324279785, Recall: 0.8539614081382751, F1: 0.8472403883934021\n"
     ]
    }
   ],
   "source": [
    "def read_file_as_one_string(file_path):\n",
    "    with open(file_path, 'r', encoding='utf-8') as file:\n",
    "        content = file.read().strip()  # Read the entire file content and strip leading/trailing whitespace\n",
    "    return content\n",
    "\n",
    "# Replace 'path/to/your' with the actual paths to your files\n",
    "reference_text  = read_file_as_one_string('/Users/Document/CS701/experiment/Text/meteor/meteor_original.txt')\n",
    "candidate_text  = read_file_as_one_string('/Users/Document/CS701/experiment/Text/meteor/meteor_ChatGPT.txt')\n",
    "\n",
    "# Wrap texts in lists to form one-to-one pairs\n",
    "candidates = [candidate_text]\n",
    "references = [reference_text]\n",
    "\n",
    "# Compute BERTScore\n",
    "P, R, F1 = score(candidates, references, lang='en')\n",
    "print(f\"P: {P.mean()}, Recall: {R.mean()}, F1: {F1.mean()}\")"
   ]
  },
  {
   "cell_type": "code",
   "execution_count": 3,
   "id": "473f788f-9bbf-444d-9fe4-820802a60c36",
   "metadata": {},
   "outputs": [
    {
     "name": "stderr",
     "output_type": "stream",
     "text": [
      "Some weights of RobertaModel were not initialized from the model checkpoint at roberta-large and are newly initialized: ['roberta.pooler.dense.bias', 'roberta.pooler.dense.weight']\n",
      "You should probably TRAIN this model on a down-stream task to be able to use it for predictions and inference.\n"
     ]
    },
    {
     "name": "stdout",
     "output_type": "stream",
     "text": [
      "P: 0.8378860950469971, Recall: 0.838895320892334, F1: 0.8383904099464417\n"
     ]
    }
   ],
   "source": [
    "def read_file_as_one_string(file_path):\n",
    "    with open(file_path, 'r', encoding='utf-8') as file:\n",
    "        content = file.read().strip()  # Read the entire file content and strip leading/trailing whitespace\n",
    "    return content\n",
    "\n",
    "# Replace 'path/to/your' with the actual paths to your files\n",
    "reference_text  = read_file_as_one_string('/Users/Document/CS701/experiment/Text/meteor/meteor_original.txt')\n",
    "candidate_text  = read_file_as_one_string('/Users/Document/CS701/experiment/Text/meteor/meteor_Gemini.txt')\n",
    "\n",
    "# Wrap texts in lists to form one-to-one pairs\n",
    "candidates = [candidate_text]\n",
    "references = [reference_text]\n",
    "\n",
    "# Compute BERTScore\n",
    "P, R, F1 = score(candidates, references, lang='en')\n",
    "print(f\"P: {P.mean()}, Recall: {R.mean()}, F1: {F1.mean()}\")"
   ]
  },
  {
   "cell_type": "code",
   "execution_count": 4,
   "id": "c8c01c40-a8dd-4185-b0ea-0b6f500a1979",
   "metadata": {},
   "outputs": [
    {
     "name": "stdout",
     "output_type": "stream",
     "text": [
      "Flesch Reading Ease: 62.38\n",
      "SMOG Index: 12.0\n",
      "Flesch-Kincaid Grade: 8.9\n",
      "Coleman-Liau Index: 10.44\n",
      "Automated Readability Index: 10.9\n",
      "Dale-Chall Readability Score: 7.25\n",
      "Difficult Words: 269\n",
      "Lexicon Count: 2114\n",
      "Sentence Count: 122\n",
      "Reading Time (minutes): 155.83\n",
      "gunning_fog: 9.49\n",
      "linsear_write: 15.25\n"
     ]
    }
   ],
   "source": [
    "# Function to read text from a file\n",
    "def read_text_from_file(file_path):\n",
    "    with open(file_path, 'r', encoding='utf-8') as file:\n",
    "        text = file.read()\n",
    "    return text\n",
    "\n",
    "# Function to evaluate text using textstat\n",
    "def evaluate_text(text):\n",
    "    readability_scores = {\n",
    "        'Flesch Reading Ease': textstat.flesch_reading_ease(text),\n",
    "        'SMOG Index': textstat.smog_index(text),\n",
    "        'Flesch-Kincaid Grade': textstat.flesch_kincaid_grade(text),\n",
    "        'Coleman-Liau Index': textstat.coleman_liau_index(text),\n",
    "        'Automated Readability Index': textstat.automated_readability_index(text),\n",
    "        'Dale-Chall Readability Score': textstat.dale_chall_readability_score(text),\n",
    "        'Difficult Words': textstat.difficult_words(text),\n",
    "        'Lexicon Count': textstat.lexicon_count(text, removepunct=True),\n",
    "        'Sentence Count': textstat.sentence_count(text),\n",
    "        'Reading Time (minutes)': textstat.reading_time(text),\n",
    "         'gunning_fog' : textstat.gunning_fog(text),\n",
    "        'linsear_write' : textstat.linsear_write_formula(text)\n",
    "    }\n",
    "    return readability_scores\n",
    "\n",
    "# Example usage\n",
    "file_path = '/Users/Document/CS701/experiment/Text/meteor/meteor_original.txt'  # Replace 'your_file.txt' with the path to your text file\n",
    "text = read_text_from_file(file_path)\n",
    "readability_scores = evaluate_text(text)\n",
    "\n",
    "# Printing the results\n",
    "for key, value in readability_scores.items():\n",
    "    print(f\"{key}: {value}\")"
   ]
  },
  {
   "cell_type": "code",
   "execution_count": 5,
   "id": "e08d587c-fad5-4230-817d-ce7f79cbb4fa",
   "metadata": {},
   "outputs": [
    {
     "name": "stdout",
     "output_type": "stream",
     "text": [
      "Flesch Reading Ease: 69.38\n",
      "SMOG Index: 10.5\n",
      "Flesch-Kincaid Grade: 6.2\n",
      "Coleman-Liau Index: 10.88\n",
      "Automated Readability Index: 9.1\n",
      "Dale-Chall Readability Score: 8.43\n",
      "Difficult Words: 78\n",
      "Lexicon Count: 428\n",
      "Sentence Count: 41\n",
      "Reading Time (minutes): 33.82\n",
      "gunning_fog: 7.99\n",
      "linsear_write: 5.25\n"
     ]
    }
   ],
   "source": [
    "# Function to read text from a file\n",
    "def read_text_from_file(file_path):\n",
    "    with open(file_path, 'r', encoding='utf-8') as file:\n",
    "        text = file.read()\n",
    "    return text\n",
    "\n",
    "# Function to evaluate text using textstat\n",
    "def evaluate_text(text):\n",
    "    readability_scores = {\n",
    "        'Flesch Reading Ease': textstat.flesch_reading_ease(text),\n",
    "        'SMOG Index': textstat.smog_index(text),\n",
    "        'Flesch-Kincaid Grade': textstat.flesch_kincaid_grade(text),\n",
    "        'Coleman-Liau Index': textstat.coleman_liau_index(text),\n",
    "        'Automated Readability Index': textstat.automated_readability_index(text),\n",
    "        'Dale-Chall Readability Score': textstat.dale_chall_readability_score(text),\n",
    "        'Difficult Words': textstat.difficult_words(text),\n",
    "        'Lexicon Count': textstat.lexicon_count(text, removepunct=True),\n",
    "        'Sentence Count': textstat.sentence_count(text),\n",
    "        'Reading Time (minutes)': textstat.reading_time(text),\n",
    "         'gunning_fog' : textstat.gunning_fog(text),\n",
    "        'linsear_write' : textstat.linsear_write_formula(text)\n",
    "    }\n",
    "    return readability_scores\n",
    "\n",
    "# Example usage\n",
    "file_path = '/Users/Document/CS701/experiment/Text/meteor/meteor_ChatGPT.txt'  # Replace 'your_file.txt' with the path to your text file\n",
    "text = read_text_from_file(file_path)\n",
    "readability_scores = evaluate_text(text)\n",
    "\n",
    "# Printing the results\n",
    "for key, value in readability_scores.items():\n",
    "    print(f\"{key}: {value}\")"
   ]
  },
  {
   "cell_type": "code",
   "execution_count": 6,
   "id": "428956ac-7d08-4379-b155-f9bfccd1c6de",
   "metadata": {},
   "outputs": [
    {
     "name": "stdout",
     "output_type": "stream",
     "text": [
      "Flesch Reading Ease: 68.06\n",
      "SMOG Index: 10.3\n",
      "Flesch-Kincaid Grade: 6.7\n",
      "Coleman-Liau Index: 8.85\n",
      "Automated Readability Index: 8.2\n",
      "Dale-Chall Readability Score: 8.95\n",
      "Difficult Words: 50\n",
      "Lexicon Count: 257\n",
      "Sentence Count: 22\n",
      "Reading Time (minutes): 19.1\n",
      "gunning_fog: 8.42\n",
      "linsear_write: 6.666666666666667\n"
     ]
    }
   ],
   "source": [
    "# Function to read text from a file\n",
    "def read_text_from_file(file_path):\n",
    "    with open(file_path, 'r', encoding='utf-8') as file:\n",
    "        text = file.read()\n",
    "    return text\n",
    "\n",
    "# Function to evaluate text using textstat\n",
    "def evaluate_text(text):\n",
    "    readability_scores = {\n",
    "        'Flesch Reading Ease': textstat.flesch_reading_ease(text),\n",
    "        'SMOG Index': textstat.smog_index(text),\n",
    "        'Flesch-Kincaid Grade': textstat.flesch_kincaid_grade(text),\n",
    "        'Coleman-Liau Index': textstat.coleman_liau_index(text),\n",
    "        'Automated Readability Index': textstat.automated_readability_index(text),\n",
    "        'Dale-Chall Readability Score': textstat.dale_chall_readability_score(text),\n",
    "        'Difficult Words': textstat.difficult_words(text),\n",
    "        'Lexicon Count': textstat.lexicon_count(text, removepunct=True),\n",
    "        'Sentence Count': textstat.sentence_count(text),\n",
    "        'Reading Time (minutes)': textstat.reading_time(text),\n",
    "         'gunning_fog' : textstat.gunning_fog(text),\n",
    "        'linsear_write' : textstat.linsear_write_formula(text)\n",
    "    }\n",
    "    return readability_scores\n",
    "\n",
    "# Example usage\n",
    "file_path = '/Users/Document/CS701/experiment/Text/meteor/meteor_Gemini.txt'  # Replace 'your_file.txt' with the path to your text file\n",
    "text = read_text_from_file(file_path)\n",
    "readability_scores = evaluate_text(text)\n",
    "\n",
    "# Printing the results\n",
    "for key, value in readability_scores.items():\n",
    "    print(f\"{key}: {value}\")"
   ]
  },
  {
   "cell_type": "code",
   "execution_count": null,
   "id": "cafb9873-4b35-4226-98dd-5eea1b1fb03a",
   "metadata": {},
   "outputs": [],
   "source": []
  }
 ],
 "metadata": {
  "kernelspec": {
   "display_name": "Python 3 (ipykernel)",
   "language": "python",
   "name": "python3"
  },
  "language_info": {
   "codemirror_mode": {
    "name": "ipython",
    "version": 3
   },
   "file_extension": ".py",
   "mimetype": "text/x-python",
   "name": "python",
   "nbconvert_exporter": "python",
   "pygments_lexer": "ipython3",
   "version": "3.11.5"
  }
 },
 "nbformat": 4,
 "nbformat_minor": 5
}
