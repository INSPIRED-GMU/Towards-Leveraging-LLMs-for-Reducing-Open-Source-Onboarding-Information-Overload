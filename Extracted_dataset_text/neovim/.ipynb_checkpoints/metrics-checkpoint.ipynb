{
 "cells": [
  {
   "cell_type": "code",
   "execution_count": 1,
   "id": "7b597d69-65f4-4298-8061-5bf2564adae4",
   "metadata": {},
   "outputs": [],
   "source": [
    "from bert_score import score\n",
    "import matplotlib.pyplot as plt\n",
    "import textstat"
   ]
  },
  {
   "cell_type": "raw",
   "id": "9c9c370e-65e4-4af3-9b72-c9402695e58d",
   "metadata": {},
   "source": [
    "Original vs ChatGPT BERTScore"
   ]
  },
  {
   "cell_type": "code",
   "execution_count": 4,
   "id": "26b6d617-1fbe-4f0c-a0ab-a58b8a90d831",
   "metadata": {},
   "outputs": [
    {
     "name": "stderr",
     "output_type": "stream",
     "text": [
      "Some weights of RobertaModel were not initialized from the model checkpoint at roberta-large and are newly initialized: ['roberta.pooler.dense.bias', 'roberta.pooler.dense.weight']\n",
      "You should probably TRAIN this model on a down-stream task to be able to use it for predictions and inference.\n"
     ]
    },
    {
     "name": "stdout",
     "output_type": "stream",
     "text": [
      "P: 0.8902003765106201, Recall: 0.8956333994865417, F1: 0.8929085731506348\n"
     ]
    }
   ],
   "source": [
    "def read_file_as_one_string(file_path):\n",
    "    with open(file_path, 'r', encoding='utf-8') as file:\n",
    "        content = file.read().strip()  # Read the entire file content and strip leading/trailing whitespace\n",
    "    return content\n",
    "\n",
    "# Replace 'path/to/your' with the actual paths to your files\n",
    "reference_text  = read_file_as_one_string('/Users/elijahadejumo/Document/CS701/experiment/Text/neovim/neovim_original.txt')\n",
    "candidate_text  = read_file_as_one_string('/Users/elijahadejumo/Document/CS701/experiment/Text/neovim/neovim_ChatGPT.txt')\n",
    "\n",
    "# Wrap texts in lists to form one-to-one pairs\n",
    "candidates = [candidate_text]\n",
    "references = [reference_text]\n",
    "\n",
    "# Compute BERTScore\n",
    "P, R, F1 = score(candidates, references, lang='en')\n",
    "print(f\"P: {P.mean()}, Recall: {R.mean()}, F1: {F1.mean()}\")"
   ]
  },
  {
   "cell_type": "code",
   "execution_count": 5,
   "id": "5bb018d6-d72a-48fe-b2d7-ab2b7a7be08e",
   "metadata": {},
   "outputs": [
    {
     "name": "stderr",
     "output_type": "stream",
     "text": [
      "Some weights of RobertaModel were not initialized from the model checkpoint at roberta-large and are newly initialized: ['roberta.pooler.dense.bias', 'roberta.pooler.dense.weight']\n",
      "You should probably TRAIN this model on a down-stream task to be able to use it for predictions and inference.\n"
     ]
    },
    {
     "name": "stdout",
     "output_type": "stream",
     "text": [
      "P: 0.8655640482902527, Recall: 0.8610721230506897, F1: 0.8633121848106384\n"
     ]
    }
   ],
   "source": [
    "def read_file_as_one_string(file_path):\n",
    "    with open(file_path, 'r', encoding='utf-8') as file:\n",
    "        content = file.read().strip()  # Read the entire file content and strip leading/trailing whitespace\n",
    "    return content\n",
    "\n",
    "# Replace 'path/to/your' with the actual paths to your files\n",
    "reference_text  = read_file_as_one_string('/Users/elijahadejumo/Document/CS701/experiment/Text/neovim/neovim_original.txt')\n",
    "candidate_text  = read_file_as_one_string('/Users/elijahadejumo/Document/CS701/experiment/Text/neovim/neovim_Gemini.txt')\n",
    "\n",
    "# Wrap texts in lists to form one-to-one pairs\n",
    "candidates = [candidate_text]\n",
    "references = [reference_text]\n",
    "\n",
    "# Compute BERTScore\n",
    "P, R, F1 = score(candidates, references, lang='en')\n",
    "print(f\"P: {P.mean()}, Recall: {R.mean()}, F1: {F1.mean()}\")"
   ]
  },
  {
   "cell_type": "code",
   "execution_count": 6,
   "id": "76319e41-ed1b-4864-ab91-823e594a363b",
   "metadata": {},
   "outputs": [
    {
     "name": "stdout",
     "output_type": "stream",
     "text": [
      "Flesch Reading Ease: 43.29\n",
      "SMOG Index: 10.5\n",
      "Flesch-Kincaid Grade: 10.0\n",
      "Coleman-Liau Index: 17.5\n",
      "Automated Readability Index: 17.1\n",
      "Dale-Chall Readability Score: 9.33\n",
      "Difficult Words: 259\n",
      "Lexicon Count: 1302\n",
      "Sentence Count: 117\n",
      "Reading Time (minutes): 133.9\n",
      "gunning_fog: 7.6\n",
      "linsear_write: 5.2727272727272725\n"
     ]
    }
   ],
   "source": [
    "# Function to read text from a file\n",
    "def read_text_from_file(file_path):\n",
    "    with open(file_path, 'r', encoding='utf-8') as file:\n",
    "        text = file.read()\n",
    "    return text\n",
    "\n",
    "# Function to evaluate text using textstat\n",
    "def evaluate_text(text):\n",
    "    readability_scores = {\n",
    "        'Flesch Reading Ease': textstat.flesch_reading_ease(text),\n",
    "        'SMOG Index': textstat.smog_index(text),\n",
    "        'Flesch-Kincaid Grade': textstat.flesch_kincaid_grade(text),\n",
    "        'Coleman-Liau Index': textstat.coleman_liau_index(text),\n",
    "        'Automated Readability Index': textstat.automated_readability_index(text),\n",
    "        'Dale-Chall Readability Score': textstat.dale_chall_readability_score(text),\n",
    "        'Difficult Words': textstat.difficult_words(text),\n",
    "        'Lexicon Count': textstat.lexicon_count(text, removepunct=True),\n",
    "        'Sentence Count': textstat.sentence_count(text),\n",
    "        'Reading Time (minutes)': textstat.reading_time(text),\n",
    "         'gunning_fog' : textstat.gunning_fog(text),\n",
    "        'linsear_write' : textstat.linsear_write_formula(text)\n",
    "    }\n",
    "    return readability_scores\n",
    "\n",
    "# Example usage\n",
    "file_path = '/Users/elijahadejumo/Document/CS701/experiment/Text/neovim/neovim_original.txt'  # Replace 'your_file.txt' with the path to your text file\n",
    "text = read_text_from_file(file_path)\n",
    "readability_scores = evaluate_text(text)\n",
    "\n",
    "# Printing the results\n",
    "for key, value in readability_scores.items():\n",
    "    print(f\"{key}: {value}\")"
   ]
  },
  {
   "cell_type": "code",
   "execution_count": 7,
   "id": "e23d01a7-2155-4efe-914e-3d653a3d33fe",
   "metadata": {},
   "outputs": [
    {
     "name": "stdout",
     "output_type": "stream",
     "text": [
      "Flesch Reading Ease: 61.63\n",
      "SMOG Index: 9.1\n",
      "Flesch-Kincaid Grade: 7.1\n",
      "Coleman-Liau Index: 13.55\n",
      "Automated Readability Index: 12.0\n",
      "Dale-Chall Readability Score: 10.09\n",
      "Difficult Words: 106\n",
      "Lexicon Count: 418\n",
      "Sentence Count: 43\n",
      "Reading Time (minutes): 37.2\n",
      "gunning_fog: 7.61\n",
      "linsear_write: 4.5\n"
     ]
    }
   ],
   "source": [
    "# Function to read text from a file\n",
    "def read_text_from_file(file_path):\n",
    "    with open(file_path, 'r', encoding='utf-8') as file:\n",
    "        text = file.read()\n",
    "    return text\n",
    "\n",
    "# Function to evaluate text using textstat\n",
    "def evaluate_text(text):\n",
    "    readability_scores = {\n",
    "        'Flesch Reading Ease': textstat.flesch_reading_ease(text),\n",
    "        'SMOG Index': textstat.smog_index(text),\n",
    "        'Flesch-Kincaid Grade': textstat.flesch_kincaid_grade(text),\n",
    "        'Coleman-Liau Index': textstat.coleman_liau_index(text),\n",
    "        'Automated Readability Index': textstat.automated_readability_index(text),\n",
    "        'Dale-Chall Readability Score': textstat.dale_chall_readability_score(text),\n",
    "        'Difficult Words': textstat.difficult_words(text),\n",
    "        'Lexicon Count': textstat.lexicon_count(text, removepunct=True),\n",
    "        'Sentence Count': textstat.sentence_count(text),\n",
    "        'Reading Time (minutes)': textstat.reading_time(text),\n",
    "         'gunning_fog' : textstat.gunning_fog(text),\n",
    "        'linsear_write' : textstat.linsear_write_formula(text)\n",
    "    }\n",
    "    return readability_scores\n",
    "\n",
    "# Example usage\n",
    "file_path = '/Users/elijahadejumo/Document/CS701/experiment/Text/neovim/neovim_ChatGPT.txt'  # Replace 'your_file.txt' with the path to your text file\n",
    "text = read_text_from_file(file_path)\n",
    "readability_scores = evaluate_text(text)\n",
    "\n",
    "# Printing the results\n",
    "for key, value in readability_scores.items():\n",
    "    print(f\"{key}: {value}\")"
   ]
  },
  {
   "cell_type": "code",
   "execution_count": 8,
   "id": "d6583b21-adbb-4ec6-9b65-0051d60a1a6b",
   "metadata": {},
   "outputs": [
    {
     "name": "stdout",
     "output_type": "stream",
     "text": [
      "Flesch Reading Ease: 61.43\n",
      "SMOG Index: 9.6\n",
      "Flesch-Kincaid Grade: 7.2\n",
      "Coleman-Liau Index: 12.68\n",
      "Automated Readability Index: 11.6\n",
      "Dale-Chall Readability Score: 7.01\n",
      "Difficult Words: 106\n",
      "Lexicon Count: 887\n",
      "Sentence Count: 90\n",
      "Reading Time (minutes): 77.81\n",
      "gunning_fog: 5.85\n",
      "linsear_write: 5.6\n"
     ]
    }
   ],
   "source": [
    "# Function to read text from a file\n",
    "def read_text_from_file(file_path):\n",
    "    with open(file_path, 'r', encoding='utf-8') as file:\n",
    "        text = file.read()\n",
    "    return text\n",
    "\n",
    "# Function to evaluate text using textstat\n",
    "def evaluate_text(text):\n",
    "    readability_scores = {\n",
    "        'Flesch Reading Ease': textstat.flesch_reading_ease(text),\n",
    "        'SMOG Index': textstat.smog_index(text),\n",
    "        'Flesch-Kincaid Grade': textstat.flesch_kincaid_grade(text),\n",
    "        'Coleman-Liau Index': textstat.coleman_liau_index(text),\n",
    "        'Automated Readability Index': textstat.automated_readability_index(text),\n",
    "        'Dale-Chall Readability Score': textstat.dale_chall_readability_score(text),\n",
    "        'Difficult Words': textstat.difficult_words(text),\n",
    "        'Lexicon Count': textstat.lexicon_count(text, removepunct=True),\n",
    "        'Sentence Count': textstat.sentence_count(text),\n",
    "        'Reading Time (minutes)': textstat.reading_time(text),\n",
    "         'gunning_fog' : textstat.gunning_fog(text),\n",
    "        'linsear_write' : textstat.linsear_write_formula(text)\n",
    "    }\n",
    "    return readability_scores\n",
    "\n",
    "# Example usage\n",
    "file_path = '/Users/elijahadejumo/Document/CS701/experiment/Text/neovim/neovim_Gemini.txt'  # Replace 'your_file.txt' with the path to your text file\n",
    "text = read_text_from_file(file_path)\n",
    "readability_scores = evaluate_text(text)\n",
    "\n",
    "# Printing the results\n",
    "for key, value in readability_scores.items():\n",
    "    print(f\"{key}: {value}\")"
   ]
  },
  {
   "cell_type": "code",
   "execution_count": null,
   "id": "4f97701f-0a9c-4ac0-ba94-2d37049fef6c",
   "metadata": {},
   "outputs": [],
   "source": []
  }
 ],
 "metadata": {
  "kernelspec": {
   "display_name": "Python 3 (ipykernel)",
   "language": "python",
   "name": "python3"
  },
  "language_info": {
   "codemirror_mode": {
    "name": "ipython",
    "version": 3
   },
   "file_extension": ".py",
   "mimetype": "text/x-python",
   "name": "python",
   "nbconvert_exporter": "python",
   "pygments_lexer": "ipython3",
   "version": "3.11.5"
  }
 },
 "nbformat": 4,
 "nbformat_minor": 5
}
