{
 "cells": [
  {
   "cell_type": "code",
   "execution_count": 1,
   "id": "304186e9-1bc8-4856-9866-7d5ba1bfc3a8",
   "metadata": {},
   "outputs": [],
   "source": [
    "from bert_score import score\n",
    "import textstat"
   ]
  },
  {
   "cell_type": "raw",
   "id": "1fbc1f36-b42a-413c-ab62-89ddc590e7f9",
   "metadata": {},
   "source": [
    "Original vs ChatGPT BERTScore"
   ]
  },
  {
   "cell_type": "code",
   "execution_count": 2,
   "id": "2e051eaa-8c3e-41ae-85e5-4e76fec18171",
   "metadata": {},
   "outputs": [
    {
     "name": "stderr",
     "output_type": "stream",
     "text": [
      "/Users/elijahadejumo/anaconda3/lib/python3.11/site-packages/transformers/utils/generic.py:260: UserWarning: torch.utils._pytree._register_pytree_node is deprecated. Please use torch.utils._pytree.register_pytree_node instead.\n",
      "  torch.utils._pytree._register_pytree_node(\n",
      "Some weights of RobertaModel were not initialized from the model checkpoint at roberta-large and are newly initialized: ['roberta.pooler.dense.bias', 'roberta.pooler.dense.weight']\n",
      "You should probably TRAIN this model on a down-stream task to be able to use it for predictions and inference.\n"
     ]
    },
    {
     "name": "stdout",
     "output_type": "stream",
     "text": [
      "P: 0.8421121835708618, Recall: 0.8326373100280762, F1: 0.8373479247093201\n"
     ]
    }
   ],
   "source": [
    "def read_file_as_one_string(file_path):\n",
    "    with open(file_path, 'r', encoding='utf-8') as file:\n",
    "        content = file.read().strip()  # Read the entire file content and strip leading/trailing whitespace\n",
    "    return content\n",
    "\n",
    "# Replace 'path/to/your' with the actual paths to your files\n",
    "reference_text = read_file_as_one_string('/Users/Document/CS701/experiment/Text/atom/atom_original.txt')\n",
    "candidate_text = read_file_as_one_string('/Users/Document/CS701/experiment/Text/atom/atom_ChatGPT.txt')\n",
    "\n",
    "# Wrap texts in lists to form one-to-one pairs\n",
    "candidates = [candidate_text]\n",
    "references = [reference_text]\n",
    "\n",
    "# Compute BERTScore\n",
    "P, R, F1 = score(candidates, references, lang='en')\n",
    "print(f\"P: {P.mean()}, Recall: {R.mean()}, F1: {F1.mean()}\")"
   ]
  },
  {
   "cell_type": "code",
   "execution_count": 3,
   "id": "9a84f7a9-8a25-49b6-88bd-28d8da425527",
   "metadata": {},
   "outputs": [
    {
     "name": "stderr",
     "output_type": "stream",
     "text": [
      "Some weights of RobertaModel were not initialized from the model checkpoint at roberta-large and are newly initialized: ['roberta.pooler.dense.bias', 'roberta.pooler.dense.weight']\n",
      "You should probably TRAIN this model on a down-stream task to be able to use it for predictions and inference.\n"
     ]
    },
    {
     "name": "stdout",
     "output_type": "stream",
     "text": [
      "P: 0.8356663584709167, Recall: 0.8329339027404785, F1: 0.8342978358268738\n"
     ]
    }
   ],
   "source": [
    "def read_file_as_one_string(file_path):\n",
    "    with open(file_path, 'r', encoding='utf-8') as file:\n",
    "        content = file.read().strip()  # Read the entire file content and strip leading/trailing whitespace\n",
    "    return content\n",
    "\n",
    "# Replace 'path/to/your' with the actual paths to your files\n",
    "reference_text = read_file_as_one_string('/Users/Document/CS701/experiment/Text/atom/atom_original.txt')\n",
    "candidate_text = read_file_as_one_string('/Users/Document/CS701/experiment/Text/atom/atom_Gemini.txt')\n",
    "\n",
    "# Wrap texts in lists to form one-to-one pairs\n",
    "candidates = [candidate_text]\n",
    "references = [reference_text]\n",
    "\n",
    "# Compute BERTScore\n",
    "P, R, F1 = score(candidates, references, lang='en')\n",
    "print(f\"P: {P.mean()}, Recall: {R.mean()}, F1: {F1.mean()}\")"
   ]
  },
  {
   "cell_type": "code",
   "execution_count": 4,
   "id": "16bb98c5-380c-463a-82b4-3acf554b252e",
   "metadata": {},
   "outputs": [
    {
     "name": "stdout",
     "output_type": "stream",
     "text": [
      "a: 62.48\n",
      " b: 11.9\n",
      "c: 8.8\n",
      " d: 12.12\n",
      " e: 12.6\n",
      " f: 6.75\n",
      " g: 453\n",
      "h : 4153\n",
      "i : 241\n",
      " j: 329.28\n",
      "k: 8.89\n",
      "l: 7.428571428571429\n"
     ]
    }
   ],
   "source": [
    "# Function to read text from a file\n",
    "def read_text_from_file(file_path):\n",
    "    with open(file_path, 'r', encoding='utf-8') as file:\n",
    "        text = file.read()\n",
    "    return text\n",
    "\n",
    "def evaluate_text(text):\n",
    "    readability_scores = {\n",
    "           'a': textstat.flesch_reading_ease(text),\n",
    "          ' b':textstat.smog_index(text),\n",
    "          'c':textstat.flesch_kincaid_grade(text),\n",
    "         ' d': textstat.coleman_liau_index(text),\n",
    "         ' e': textstat.automated_readability_index(text),\n",
    "          ' f':textstat.dale_chall_readability_score(text),\n",
    "          ' g':textstat.difficult_words(text),\n",
    "         'h ': textstat.lexicon_count(text, removepunct=True),\n",
    "          'i ':textstat.sentence_count(text),\n",
    "          ' j': textstat.reading_time(text),\n",
    "          'k' : textstat.gunning_fog(text),\n",
    "        'l' : textstat.linsear_write_formula(text)\n",
    "    }\n",
    "    return readability_scores\n",
    "\n",
    "file_path = '/Users/Document/CS701/experiment/Text/atom/atom_original.txt'  # Replace 'your_file.txt' with the path to your text file\n",
    "text = read_text_from_file(file_path)\n",
    "readability_scores = evaluate_text(text)\n",
    "\n",
    "# Printing the results\n",
    "for key, value in readability_scores.items():\n",
    "    print(f\"{key}: {value}\")\n",
    "    \n",
    "# This will print just the values in the order defined in your function\n",
    "\n",
    "# # Function to evaluate text using textstat\n",
    "# def evaluate_text(text):\n",
    "#     readability_scores = {\n",
    "#         'Flesch Reading Ease': textstat.flesch_reading_ease(text),\n",
    "#         'SMOG Index': textstat.smog_index(text),\n",
    "#         'Flesch-Kincaid Grade': textstat.flesch_kincaid_grade(text),\n",
    "#         'Coleman-Liau Index': textstat.coleman_liau_index(text),\n",
    "#         'Automated Readability Index': textstat.automated_readability_index(text),\n",
    "#         'Dale-Chall Readability Score': textstat.dale_chall_readability_score(text),\n",
    "#         'Difficult Words': textstat.difficult_words(text),\n",
    "#         'Lexicon Count': textstat.lexicon_count(text, removepunct=True),\n",
    "#         'Sentence Count': textstat.sentence_count(text),\n",
    "#         'Reading Time (minutes)': textstat.reading_time(text),\n",
    "#     }\n",
    "#     return readability_scores\n",
    "\n",
    "# # Example usage\n",
    "# file_path = '/Users/elijahadejumo/Document/CS701/experiment/Text/atom/atom_original.txt'  # Replace 'your_file.txt' with the path to your text file\n",
    "# text = read_text_from_file(file_path)\n",
    "# readability_scores = evaluate_text(text)\n",
    "\n",
    "# # Printing the results\n",
    "# for key, value in readability_scores.items():\n",
    "#     print(f\"{key}: {value}\")"
   ]
  },
  {
   "cell_type": "code",
   "execution_count": 5,
   "id": "d1a50157-6591-4fe2-9d7f-41544c185966",
   "metadata": {},
   "outputs": [
    {
     "name": "stdout",
     "output_type": "stream",
     "text": [
      "Flesch Reading Ease: 78.96\n",
      "SMOG Index: 8.1\n",
      "Flesch-Kincaid Grade: 4.6\n",
      "Coleman-Liau Index: 8.32\n",
      "Automated Readability Index: 6.8\n",
      "Dale-Chall Readability Score: 7.91\n",
      "Difficult Words: 49\n",
      "Lexicon Count: 327\n",
      "Sentence Count: 35\n",
      "Reading Time (minutes): 24.08\n",
      "gunning_fog: 6.17\n",
      "linsear_write: 7.0\n"
     ]
    }
   ],
   "source": [
    "# Function to read text from a file\n",
    "def read_text_from_file(file_path):\n",
    "    with open(file_path, 'r', encoding='utf-8') as file:\n",
    "        text = file.read()\n",
    "    return text\n",
    "\n",
    "# Function to evaluate text using textstat\n",
    "def evaluate_text(text):\n",
    "    readability_scores = {\n",
    "        'Flesch Reading Ease': textstat.flesch_reading_ease(text),\n",
    "        'SMOG Index': textstat.smog_index(text),\n",
    "        'Flesch-Kincaid Grade': textstat.flesch_kincaid_grade(text),\n",
    "        'Coleman-Liau Index': textstat.coleman_liau_index(text),\n",
    "        'Automated Readability Index': textstat.automated_readability_index(text),\n",
    "        'Dale-Chall Readability Score': textstat.dale_chall_readability_score(text),\n",
    "        'Difficult Words': textstat.difficult_words(text),\n",
    "        'Lexicon Count': textstat.lexicon_count(text, removepunct=True),\n",
    "        'Sentence Count': textstat.sentence_count(text),\n",
    "        'Reading Time (minutes)': textstat.reading_time(text),\n",
    "          'gunning_fog' : textstat.gunning_fog(text),\n",
    "        'linsear_write' : textstat.linsear_write_formula(text)\n",
    "    }\n",
    "    return readability_scores\n",
    "\n",
    "# Example usage\n",
    "file_path = '/Users/Document/CS701/experiment/Text/atom/atom_ChatGPT.txt'  # Replace 'your_file.txt' with the path to your text file\n",
    "text = read_text_from_file(file_path)\n",
    "readability_scores = evaluate_text(text)\n",
    "\n",
    "# Printing the results\n",
    "for key, value in readability_scores.items():\n",
    "    print(f\"{key}: {value}\")"
   ]
  },
  {
   "cell_type": "code",
   "execution_count": 6,
   "id": "3708ccf9-7f65-4c17-9130-940cb09b1b33",
   "metadata": {},
   "outputs": [
    {
     "name": "stdout",
     "output_type": "stream",
     "text": [
      "Flesch Reading Ease: 61.12\n",
      "SMOG Index: 10.7\n",
      "Flesch-Kincaid Grade: 7.3\n",
      "Coleman-Liau Index: 11.4\n",
      "Automated Readability Index: 9.0\n",
      "Dale-Chall Readability Score: 8.33\n",
      "Difficult Words: 63\n",
      "Lexicon Count: 317\n",
      "Sentence Count: 31\n",
      "Reading Time (minutes): 25.03\n",
      "gunning_fog: 7.99\n",
      "linsear_write: 5.555555555555555\n"
     ]
    }
   ],
   "source": [
    "# Function to read text from a file\n",
    "def read_text_from_file(file_path):\n",
    "    with open(file_path, 'r', encoding='utf-8') as file:\n",
    "        text = file.read()\n",
    "    return text\n",
    "\n",
    "# Function to evaluate text using textstat\n",
    "def evaluate_text(text):\n",
    "    readability_scores = {\n",
    "        'Flesch Reading Ease': textstat.flesch_reading_ease(text),\n",
    "        'SMOG Index': textstat.smog_index(text),\n",
    "        'Flesch-Kincaid Grade': textstat.flesch_kincaid_grade(text),\n",
    "        'Coleman-Liau Index': textstat.coleman_liau_index(text),\n",
    "        'Automated Readability Index': textstat.automated_readability_index(text),\n",
    "        'Dale-Chall Readability Score': textstat.dale_chall_readability_score(text),\n",
    "        'Difficult Words': textstat.difficult_words(text),\n",
    "        'Lexicon Count': textstat.lexicon_count(text, removepunct=True),\n",
    "        'Sentence Count': textstat.sentence_count(text),\n",
    "        'Reading Time (minutes)': textstat.reading_time(text),\n",
    "             'gunning_fog' : textstat.gunning_fog(text),\n",
    "        'linsear_write' : textstat.linsear_write_formula(text)\n",
    "    }\n",
    "    return readability_scores\n",
    "\n",
    "# Example usage\n",
    "file_path = '/Users/Document/CS701/experiment/Text/atom/atom_Gemini.txt'  # Replace 'your_file.txt' with the path to your text file\n",
    "text = read_text_from_file(file_path)\n",
    "readability_scores = evaluate_text(text)\n",
    "\n",
    "# Printing the results\n",
    "for key, value in readability_scores.items():\n",
    "    print(f\"{key}: {value}\")"
   ]
  },
  {
   "cell_type": "code",
   "execution_count": null,
   "id": "cee14210-9df3-4fdc-9970-61d205e64b13",
   "metadata": {},
   "outputs": [],
   "source": []
  }
 ],
 "metadata": {
  "kernelspec": {
   "display_name": "Python 3 (ipykernel)",
   "language": "python",
   "name": "python3"
  },
  "language_info": {
   "codemirror_mode": {
    "name": "ipython",
    "version": 3
   },
   "file_extension": ".py",
   "mimetype": "text/x-python",
   "name": "python",
   "nbconvert_exporter": "python",
   "pygments_lexer": "ipython3",
   "version": "3.11.5"
  }
 },
 "nbformat": 4,
 "nbformat_minor": 5
}
